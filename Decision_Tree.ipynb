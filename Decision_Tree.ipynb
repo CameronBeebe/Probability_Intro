{
 "cells": [
  {
   "cell_type": "code",
   "execution_count": 1,
   "metadata": {},
   "outputs": [],
   "source": [
    "from sklearn import tree"
   ]
  },
  {
   "cell_type": "code",
   "execution_count": 2,
   "metadata": {},
   "outputs": [],
   "source": [
    "import numpy as np\n",
    "import matplotlib.pyplot as plt"
   ]
  },
  {
   "cell_type": "code",
   "execution_count": 3,
   "metadata": {},
   "outputs": [],
   "source": [
    "# CB: A decision tree is a graph and associated rules for traversing that graph.\n",
    "# A path in the tree starts in a root node and ends in a leaf node.\n",
    "# Each junction from the root node represents a \"decision\", \n",
    "# or a \"sub-decision\" on the way to the desired decision (represented by a leaf node).\n",
    "# The decision tree encodes a model for how to traverse data in a way that is useful (e.g. classification).\n",
    "# For example, the number of nodes (junctions) in the tree is a modeling choice.\n",
    "# We can also automate the creation of the tree itself, using math to determine optimal tree structures."
   ]
  },
  {
   "cell_type": "code",
   "execution_count": 4,
   "metadata": {},
   "outputs": [],
   "source": [
    "length = 100"
   ]
  },
  {
   "cell_type": "code",
   "execution_count": 5,
   "metadata": {},
   "outputs": [],
   "source": [
    "# Create A distribution of points.  \n",
    "point_distribution_A = np.random.randint(low=-10, high=20,size=(length,2))\n",
    "# Split for plotting.\n",
    "x_A,y_A = point_distribution_A.T"
   ]
  },
  {
   "cell_type": "code",
   "execution_count": 6,
   "metadata": {},
   "outputs": [],
   "source": [
    "# Create B distribution of points.\n",
    "point_distribution_B = np.random.randint(low=-30, high=0, size=(length,2))\n",
    "# Split for plotting.\n",
    "x_B,y_B = point_distribution_B.T"
   ]
  },
  {
   "cell_type": "code",
   "execution_count": 7,
   "metadata": {},
   "outputs": [
    {
     "data": {
      "text/plain": [
       "array([[ 13,  15],\n",
       "       [ 19,  11],\n",
       "       [  7,  15],\n",
       "       [ -5,  -9],\n",
       "       [-10,  16],\n",
       "       [  7,  -1],\n",
       "       [ 12,   0],\n",
       "       [  0,  17],\n",
       "       [ -9,  17],\n",
       "       [ 13,   6]])"
      ]
     },
     "execution_count": 7,
     "metadata": {},
     "output_type": "execute_result"
    }
   ],
   "source": [
    "# Look at the data.\n",
    "point_distribution_A[:10]"
   ]
  },
  {
   "cell_type": "code",
   "execution_count": 8,
   "metadata": {},
   "outputs": [
    {
     "data": {
      "text/plain": [
       "array([[ -9, -12],\n",
       "       [ -5, -18],\n",
       "       [ -1, -20],\n",
       "       [-21, -25],\n",
       "       [-23, -21],\n",
       "       [-19, -12],\n",
       "       [-21,  -2],\n",
       "       [-18, -22],\n",
       "       [ -4, -29],\n",
       "       [-19, -24]])"
      ]
     },
     "execution_count": 8,
     "metadata": {},
     "output_type": "execute_result"
    }
   ],
   "source": [
    "point_distribution_B[:10]"
   ]
  },
  {
   "cell_type": "code",
   "execution_count": 9,
   "metadata": {},
   "outputs": [
    {
     "data": {
      "text/plain": [
       "(array([ 13,  19,   7,  -5, -10,   7,  12,   0,  -9,  13]),\n",
       " array([15, 11, 15, -9, 16, -1,  0, 17, 17,  6]),\n",
       " array([ -9,  -5,  -1, -21, -23, -19, -21, -18,  -4, -19]),\n",
       " array([-12, -18, -20, -25, -21, -12,  -2, -22, -29, -24]))"
      ]
     },
     "execution_count": 9,
     "metadata": {},
     "output_type": "execute_result"
    }
   ],
   "source": [
    "# Confirm splits.\n",
    "x_A[:10], y_A[:10], x_B[:10], y_B[:10]"
   ]
  },
  {
   "cell_type": "code",
   "execution_count": 10,
   "metadata": {},
   "outputs": [
    {
     "data": {
      "text/plain": [
       "<matplotlib.collections.PathCollection at 0x116c4b0d0>"
      ]
     },
     "execution_count": 10,
     "metadata": {},
     "output_type": "execute_result"
    },
    {
     "data": {
      "image/png": "[encoded data removed]",
      "text/plain": [
       "<Figure size 432x288 with 1 Axes>"
      ]
     },
     "metadata": {
      "needs_background": "light"
     },
     "output_type": "display_data"
    }
   ],
   "source": [
    "# Plot both distributions.  A distribution is blue, B distribution is orange.\n",
    "plt.scatter(x_A,y_A)\n",
    "plt.scatter(x_B,y_B)"
   ]
  },
  {
   "cell_type": "code",
   "execution_count": 11,
   "metadata": {},
   "outputs": [],
   "source": [
    "# Join x and y data.\n",
    "all_x = np.concatenate((x_A,x_B), axis=0)\n",
    "all_y = np.concatenate((y_A,y_B), axis=0)"
   ]
  },
  {
   "cell_type": "code",
   "execution_count": 12,
   "metadata": {},
   "outputs": [
    {
     "data": {
      "text/plain": [
       "(array([ 13,  19,   7,  -5, -10,   7,  12,   0,  -9,  13,   2,  11,   9,\n",
       "         -2,  -5,   7,  -2,   5,  15,  12,   3,  10,  12,  -3,  12,  -6,\n",
       "          2,  16,  -7,  13,  16,  -9,  16,  -7,  -8,   7,  -5,   3,  -6,\n",
       "         -7,  -4,  -9,  -1,  -9,  15,   7,  -6,  -2,  -9,  -1,  -5,  -8,\n",
       "          5,  -7,  -1,  -2,   6,  16,  -6,   1,  17,  12,  -9,   1,  -1,\n",
       "          5,  12,  11,   2,  -3,  -6,  13,  10,  19,  13,   4,   0,  19,\n",
       "         -5,   7,   3,   2,  13,  -6,   6,   3,  -7,  -1,  12,  -1,  -4,\n",
       "          0,   8,  14,  -8,  17,  17,   2,   9,   4,  -9,  -5,  -1, -21,\n",
       "        -23, -19, -21, -18,  -4, -19,  -9, -19, -11, -22, -19, -12, -20,\n",
       "        -29, -23,  -1, -17, -26, -20, -26, -12, -10,  -2, -12,  -1,  -5,\n",
       "        -24, -11, -29, -21, -16,  -9,  -3, -23, -29, -12, -19, -20, -12,\n",
       "        -11, -26,  -1, -18, -14,  -3, -15, -18, -27, -23, -26,  -2,  -4,\n",
       "         -7, -19, -25, -22, -30, -21, -22,  -6, -17,  -4,  -5, -12, -15,\n",
       "         -8,  -6, -11,  -6,  -8,  -5, -30,  -7, -19,  -1,  -7, -20, -29,\n",
       "        -10, -21, -28, -16, -29,  -4, -25,  -2, -21, -11,  -9, -25, -13,\n",
       "        -11, -29,  -1,  -3,  -6]),\n",
       " array([ 15,  11,  15,  -9,  16,  -1,   0,  17,  17,   6,  -6,  16,   1,\n",
       "         -9,   2,   7,   2,  13,  18,   3,  17,  18,   0,  -2,  -5,  -4,\n",
       "         11,  15,   6,  15,  11,  -8, -10,  -4,   5,  -2,  -8,  -6,  -2,\n",
       "          9,   9,  11,  15,  10,  -9,  13,   0,  -2,  17,   4,  13,   7,\n",
       "         14,  -2,  19,  -4,   7,  14,   8,  -2,  16,  19,   9,   9,  16,\n",
       "         14,  12,   8,  -4,  -1,  -3,  13,   3,  -6,  -3,  14,   7,  -6,\n",
       "          3,   8,   7,  10,  -2,  -8,  13,  -5,  -4,  19,  -9,   8,  18,\n",
       "         14,   9,  14,  -4,  19,   4,   5,   8,  -9, -12, -18, -20, -25,\n",
       "        -21, -12,  -2, -22, -29, -24, -11, -15, -13, -12, -17, -27, -12,\n",
       "         -8, -27, -29, -26, -16, -13, -22, -24, -19,  -2, -28, -20, -21,\n",
       "        -22, -30,  -3, -10,  -3,  -1,  -1, -14,  -4,  -8, -23, -26, -23,\n",
       "        -23,  -2,  -3, -29,  -9, -22, -26, -22, -13,  -1,  -2,  -4, -20,\n",
       "        -15, -22, -11, -23, -27, -25,  -7, -19, -13, -20, -25,  -3, -15,\n",
       "        -26, -29, -18, -15,  -7,  -2,  -5, -24, -16, -14, -18, -27, -23,\n",
       "        -26,  -8,  -3, -29, -26, -26,  -2, -10,  -4,  -6,  -9,  -2,  -6,\n",
       "        -16, -16, -12, -10, -12]))"
      ]
     },
     "execution_count": 12,
     "metadata": {},
     "output_type": "execute_result"
    }
   ],
   "source": [
    "all_x, all_y"
   ]
  },
  {
   "cell_type": "code",
   "execution_count": 13,
   "metadata": {},
   "outputs": [
    {
     "data": {
      "text/plain": [
       "(array([[ 13,  15],\n",
       "        [ 19,  11],\n",
       "        [  7,  15],\n",
       "        [ -5,  -9],\n",
       "        [-10,  16],\n",
       "        [  7,  -1],\n",
       "        [ 12,   0],\n",
       "        [  0,  17],\n",
       "        [ -9,  17],\n",
       "        [ 13,   6],\n",
       "        [  2,  -6],\n",
       "        [ 11,  16],\n",
       "        [  9,   1],\n",
       "        [ -2,  -9],\n",
       "        [ -5,   2],\n",
       "        [  7,   7],\n",
       "        [ -2,   2],\n",
       "        [  5,  13],\n",
       "        [ 15,  18],\n",
       "        [ 12,   3],\n",
       "        [  3,  17],\n",
       "        [ 10,  18],\n",
       "        [ 12,   0],\n",
       "        [ -3,  -2],\n",
       "        [ 12,  -5],\n",
       "        [ -6,  -4],\n",
       "        [  2,  11],\n",
       "        [ 16,  15],\n",
       "        [ -7,   6],\n",
       "        [ 13,  15],\n",
       "        [ 16,  11],\n",
       "        [ -9,  -8],\n",
       "        [ 16, -10],\n",
       "        [ -7,  -4],\n",
       "        [ -8,   5],\n",
       "        [  7,  -2],\n",
       "        [ -5,  -8],\n",
       "        [  3,  -6],\n",
       "        [ -6,  -2],\n",
       "        [ -7,   9],\n",
       "        [ -4,   9],\n",
       "        [ -9,  11],\n",
       "        [ -1,  15],\n",
       "        [ -9,  10],\n",
       "        [ 15,  -9],\n",
       "        [  7,  13],\n",
       "        [ -6,   0],\n",
       "        [ -2,  -2],\n",
       "        [ -9,  17],\n",
       "        [ -1,   4],\n",
       "        [ -5,  13],\n",
       "        [ -8,   7],\n",
       "        [  5,  14],\n",
       "        [ -7,  -2],\n",
       "        [ -1,  19],\n",
       "        [ -2,  -4],\n",
       "        [  6,   7],\n",
       "        [ 16,  14],\n",
       "        [ -6,   8],\n",
       "        [  1,  -2],\n",
       "        [ 17,  16],\n",
       "        [ 12,  19],\n",
       "        [ -9,   9],\n",
       "        [  1,   9],\n",
       "        [ -1,  16],\n",
       "        [  5,  14],\n",
       "        [ 12,  12],\n",
       "        [ 11,   8],\n",
       "        [  2,  -4],\n",
       "        [ -3,  -1],\n",
       "        [ -6,  -3],\n",
       "        [ 13,  13],\n",
       "        [ 10,   3],\n",
       "        [ 19,  -6],\n",
       "        [ 13,  -3],\n",
       "        [  4,  14],\n",
       "        [  0,   7],\n",
       "        [ 19,  -6],\n",
       "        [ -5,   3],\n",
       "        [  7,   8],\n",
       "        [  3,   7],\n",
       "        [  2,  10],\n",
       "        [ 13,  -2],\n",
       "        [ -6,  -8],\n",
       "        [  6,  13],\n",
       "        [  3,  -5],\n",
       "        [ -7,  -4],\n",
       "        [ -1,  19],\n",
       "        [ 12,  -9],\n",
       "        [ -1,   8],\n",
       "        [ -4,  18],\n",
       "        [  0,  14],\n",
       "        [  8,   9],\n",
       "        [ 14,  14],\n",
       "        [ -8,  -4],\n",
       "        [ 17,  19],\n",
       "        [ 17,   4],\n",
       "        [  2,   5],\n",
       "        [  9,   8],\n",
       "        [  4,  -9],\n",
       "        [ -9, -12],\n",
       "        [ -5, -18],\n",
       "        [ -1, -20],\n",
       "        [-21, -25],\n",
       "        [-23, -21],\n",
       "        [-19, -12],\n",
       "        [-21,  -2],\n",
       "        [-18, -22],\n",
       "        [ -4, -29],\n",
       "        [-19, -24],\n",
       "        [ -9, -11],\n",
       "        [-19, -15],\n",
       "        [-11, -13],\n",
       "        [-22, -12],\n",
       "        [-19, -17],\n",
       "        [-12, -27],\n",
       "        [-20, -12],\n",
       "        [-29,  -8],\n",
       "        [-23, -27],\n",
       "        [ -1, -29],\n",
       "        [-17, -26],\n",
       "        [-26, -16],\n",
       "        [-20, -13],\n",
       "        [-26, -22],\n",
       "        [-12, -24],\n",
       "        [-10, -19],\n",
       "        [ -2,  -2],\n",
       "        [-12, -28],\n",
       "        [ -1, -20],\n",
       "        [ -5, -21],\n",
       "        [-24, -22],\n",
       "        [-11, -30],\n",
       "        [-29,  -3],\n",
       "        [-21, -10],\n",
       "        [-16,  -3],\n",
       "        [ -9,  -1],\n",
       "        [ -3,  -1],\n",
       "        [-23, -14],\n",
       "        [-29,  -4],\n",
       "        [-12,  -8],\n",
       "        [-19, -23],\n",
       "        [-20, -26],\n",
       "        [-12, -23],\n",
       "        [-11, -23],\n",
       "        [-26,  -2],\n",
       "        [ -1,  -3],\n",
       "        [-18, -29],\n",
       "        [-14,  -9],\n",
       "        [ -3, -22],\n",
       "        [-15, -26],\n",
       "        [-18, -22],\n",
       "        [-27, -13],\n",
       "        [-23,  -1],\n",
       "        [-26,  -2],\n",
       "        [ -2,  -4],\n",
       "        [ -4, -20],\n",
       "        [ -7, -15],\n",
       "        [-19, -22],\n",
       "        [-25, -11],\n",
       "        [-22, -23],\n",
       "        [-30, -27],\n",
       "        [-21, -25],\n",
       "        [-22,  -7],\n",
       "        [ -6, -19],\n",
       "        [-17, -13],\n",
       "        [ -4, -20],\n",
       "        [ -5, -25],\n",
       "        [-12,  -3],\n",
       "        [-15, -15],\n",
       "        [ -8, -26],\n",
       "        [ -6, -29],\n",
       "        [-11, -18],\n",
       "        [ -6, -15],\n",
       "        [ -8,  -7],\n",
       "        [ -5,  -2],\n",
       "        [-30,  -5],\n",
       "        [ -7, -24],\n",
       "        [-19, -16],\n",
       "        [ -1, -14],\n",
       "        [ -7, -18],\n",
       "        [-20, -27],\n",
       "        [-29, -23],\n",
       "        [-10, -26],\n",
       "        [-21,  -8],\n",
       "        [-28,  -3],\n",
       "        [-16, -29],\n",
       "        [-29, -26],\n",
       "        [ -4, -26],\n",
       "        [-25,  -2],\n",
       "        [ -2, -10],\n",
       "        [-21,  -4],\n",
       "        [-11,  -6],\n",
       "        [ -9,  -9],\n",
       "        [-25,  -2],\n",
       "        [-13,  -6],\n",
       "        [-11, -16],\n",
       "        [-29, -16],\n",
       "        [ -1, -12],\n",
       "        [ -3, -10],\n",
       "        [ -6, -12]]),\n",
       " (200, 2))"
      ]
     },
     "execution_count": 13,
     "metadata": {},
     "output_type": "execute_result"
    }
   ],
   "source": [
    "# Unify joined data.\n",
    "all_data = np.vstack((all_x, all_y)).T\n",
    "all_data, all_data.shape"
   ]
  },
  {
   "cell_type": "code",
   "execution_count": 14,
   "metadata": {},
   "outputs": [
    {
     "data": {
      "text/plain": [
       "(array([0., 0., 0., 0., 0., 0., 0., 0., 0., 0., 0., 0., 0., 0., 0., 0., 0.,\n",
       "        0., 0., 0., 0., 0., 0., 0., 0., 0., 0., 0., 0., 0., 0., 0., 0., 0.,\n",
       "        0., 0., 0., 0., 0., 0., 0., 0., 0., 0., 0., 0., 0., 0., 0., 0., 0.,\n",
       "        0., 0., 0., 0., 0., 0., 0., 0., 0., 0., 0., 0., 0., 0., 0., 0., 0.,\n",
       "        0., 0., 0., 0., 0., 0., 0., 0., 0., 0., 0., 0., 0., 0., 0., 0., 0.,\n",
       "        0., 0., 0., 0., 0., 0., 0., 0., 0., 0., 0., 0., 0., 0., 0., 1., 1.,\n",
       "        1., 1., 1., 1., 1., 1., 1., 1., 1., 1., 1., 1., 1., 1., 1., 1., 1.,\n",
       "        1., 1., 1., 1., 1., 1., 1., 1., 1., 1., 1., 1., 1., 1., 1., 1., 1.,\n",
       "        1., 1., 1., 1., 1., 1., 1., 1., 1., 1., 1., 1., 1., 1., 1., 1., 1.,\n",
       "        1., 1., 1., 1., 1., 1., 1., 1., 1., 1., 1., 1., 1., 1., 1., 1., 1.,\n",
       "        1., 1., 1., 1., 1., 1., 1., 1., 1., 1., 1., 1., 1., 1., 1., 1., 1.,\n",
       "        1., 1., 1., 1., 1., 1., 1., 1., 1., 1., 1., 1., 1.]),\n",
       " (200,))"
      ]
     },
     "execution_count": 14,
     "metadata": {},
     "output_type": "execute_result"
    }
   ],
   "source": [
    "# Create labels.  A distribution = 0 (blue), B distribution = 1 (orange)\n",
    "labels = np.concatenate((np.zeros(length),np.ones(length)),axis=0)\n",
    "labels, labels.shape"
   ]
  },
  {
   "cell_type": "code",
   "execution_count": 15,
   "metadata": {},
   "outputs": [],
   "source": [
    "# Create tree classifier object.\n",
    "clf = tree.DecisionTreeClassifier(random_state=0,max_depth=2)"
   ]
  },
  {
   "cell_type": "code",
   "execution_count": 16,
   "metadata": {},
   "outputs": [],
   "source": [
    "# Train classifier tree.\n",
    "fitted = clf.fit(all_data, labels)"
   ]
  },
  {
   "cell_type": "code",
   "execution_count": 17,
   "metadata": {},
   "outputs": [
    {
     "data": {
      "text/plain": [
       "<matplotlib.collections.PathCollection at 0x116d26f50>"
      ]
     },
     "execution_count": 17,
     "metadata": {},
     "output_type": "execute_result"
    },
    {
     "data": {
      "image/png": "[encoded data removed]",
      "text/plain": [
       "<Figure size 432x288 with 1 Axes>"
      ]
     },
     "metadata": {
      "needs_background": "light"
     },
     "output_type": "display_data"
    }
   ],
   "source": [
    "# Create and plot test data.  Results should be 0, 1, 0, ?, ?, 1\n",
    "test_data = np.array([[13,5],[-12,-7],[100,100],[100,-100],[-100,100],[-100,-100]])\n",
    "x_test,y_test = test_data.T\n",
    "x_test,y_test\n",
    "plt.scatter(x_test,y_test)"
   ]
  },
  {
   "cell_type": "code",
   "execution_count": 18,
   "metadata": {},
   "outputs": [
    {
     "data": {
      "text/plain": [
       "array([0., 1., 0., 0., 1., 1.])"
      ]
     },
     "execution_count": 18,
     "metadata": {},
     "output_type": "execute_result"
    }
   ],
   "source": [
    "# Predict\n",
    "fitted.predict(test_data)"
   ]
  },
  {
   "cell_type": "code",
   "execution_count": 19,
   "metadata": {},
   "outputs": [
    {
     "data": {
      "text/plain": [
       "array([[0.92523364, 0.07476636],\n",
       "       [0.        , 1.        ],\n",
       "       [0.92523364, 0.07476636],\n",
       "       [1.        , 0.        ],\n",
       "       [0.        , 1.        ],\n",
       "       [0.        , 1.        ]])"
      ]
     },
     "execution_count": 19,
     "metadata": {},
     "output_type": "execute_result"
    }
   ],
   "source": [
    "# Check probabilities (try changing max_depth of tree and see how it affects probabilities)\n",
    "fitted.predict_proba(test_data)"
   ]
  },
  {
   "cell_type": "code",
   "execution_count": 20,
   "metadata": {},
   "outputs": [
    {
     "data": {
      "text/plain": [
       "[Text(167.4, 181.2, 'X[1] <= -9.5\\ngini = 0.5\\nsamples = 200\\nvalue = [100, 100]'),\n",
       " Text(83.7, 108.72, 'X[0] <= 7.5\\ngini = 0.027\\nsamples = 73\\nvalue = [1, 72]'),\n",
       " Text(41.85, 36.23999999999998, 'gini = 0.0\\nsamples = 72\\nvalue = [0, 72]'),\n",
       " Text(125.55000000000001, 36.23999999999998, 'gini = 0.0\\nsamples = 1\\nvalue = [1, 0]'),\n",
       " Text(251.10000000000002, 108.72, 'X[0] <= -10.5\\ngini = 0.344\\nsamples = 127\\nvalue = [99, 28]'),\n",
       " Text(209.25, 36.23999999999998, 'gini = 0.0\\nsamples = 20\\nvalue = [0, 20]'),\n",
       " Text(292.95, 36.23999999999998, 'gini = 0.138\\nsamples = 107\\nvalue = [99, 8]')]"
      ]
     },
     "execution_count": 20,
     "metadata": {},
     "output_type": "execute_result"
    },
    {
     "data": {
      "image/png": "[encoded data removed]",
      "text/plain": [
       "<Figure size 432x288 with 1 Axes>"
      ]
     },
     "metadata": {
      "needs_background": "light"
     },
     "output_type": "display_data"
    }
   ],
   "source": [
    "# Take a look at the automatically created tree and the separator nodes\n",
    "tree.plot_tree(clf)"
   ]
  },
  {
   "cell_type": "code",
   "execution_count": null,
   "metadata": {},
   "outputs": [],
   "source": []
  },
  {
   "cell_type": "code",
   "execution_count": 21,
   "metadata": {},
   "outputs": [],
   "source": [
    "from sklearn.model_selection import cross_val_score"
   ]
  },
  {
   "cell_type": "code",
   "execution_count": 22,
   "metadata": {},
   "outputs": [],
   "source": [
    "cross_val_score?"
   ]
  },
  {
   "cell_type": "code",
   "execution_count": 23,
   "metadata": {},
   "outputs": [
    {
     "data": {
      "text/plain": [
       "array([0.975, 0.9  , 0.95 , 0.95 , 0.925])"
      ]
     },
     "execution_count": 23,
     "metadata": {},
     "output_type": "execute_result"
    }
   ],
   "source": [
    "cross_val_score(clf, all_data, labels)"
   ]
  },
  {
   "cell_type": "code",
   "execution_count": null,
   "metadata": {},
   "outputs": [],
   "source": []
  },
  {
   "cell_type": "code",
   "execution_count": null,
   "metadata": {},
   "outputs": [],
   "source": []
  }
 ],
 "metadata": {
  "kernelspec": {
   "display_name": "Python [conda env:ml]",
   "language": "python",
   "name": "conda-env-ml-py"
  },
  "language_info": {
   "codemirror_mode": {
    "name": "ipython",
    "version": 3
   },
   "file_extension": ".py",
   "mimetype": "text/x-python",
   "name": "python",
   "nbconvert_exporter": "python",
   "pygments_lexer": "ipython3",
   "version": "3.7.9"
  }
 },
 "nbformat": 4,
 "nbformat_minor": 4
}
