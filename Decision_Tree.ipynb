{
 "cells": [
  {
   "cell_type": "code",
   "execution_count": 1,
   "metadata": {},
   "outputs": [],
   "source": [
    "#from sklearn.datasets import load_iris\n",
    "from sklearn import tree"
   ]
  },
  {
   "cell_type": "code",
   "execution_count": 2,
   "metadata": {},
   "outputs": [],
   "source": [
    "import numpy as np\n",
    "import matplotlib.pyplot as plt"
   ]
  },
  {
   "cell_type": "code",
   "execution_count": null,
   "metadata": {},
   "outputs": [],
   "source": []
  },
  {
   "cell_type": "code",
   "execution_count": 3,
   "metadata": {},
   "outputs": [
    {
     "data": {
      "text/plain": [
       "array([[2, 9, 7, 0, 3, 5, 2, 8, 1, 8],\n",
       "       [9, 3, 3, 5, 2, 7, 5, 5, 5, 1],\n",
       "       [6, 2, 0, 2, 9, 0, 3, 4, 1, 0],\n",
       "       [0, 4, 0, 7, 8, 6, 8, 1, 6, 8],\n",
       "       [7, 1, 4, 5, 3, 1, 5, 3, 5, 6],\n",
       "       [3, 8, 7, 9, 9, 6, 0, 8, 1, 2],\n",
       "       [4, 8, 0, 9, 0, 5, 8, 6, 6, 4],\n",
       "       [3, 6, 5, 4, 6, 2, 1, 1, 4, 5],\n",
       "       [2, 5, 2, 0, 4, 9, 5, 6, 1, 7],\n",
       "       [3, 6, 5, 1, 3, 3, 1, 3, 3, 2]])"
      ]
     },
     "execution_count": 3,
     "metadata": {},
     "output_type": "execute_result"
    }
   ],
   "source": [
    "data = np.random.randint(10,size=(10,10))\n",
    "data"
   ]
  },
  {
   "cell_type": "code",
   "execution_count": 4,
   "metadata": {},
   "outputs": [],
   "source": [
    "length = 100"
   ]
  },
  {
   "cell_type": "code",
   "execution_count": 5,
   "metadata": {},
   "outputs": [],
   "source": [
    "# Create a distribution of points.  It will be centered around (0,0)\n",
    "point_distribution_A = np.random.randint(low=-10, high=20,size=(length,2))\n",
    "x_A,y_A = point_distribution_A.T"
   ]
  },
  {
   "cell_type": "code",
   "execution_count": 6,
   "metadata": {},
   "outputs": [],
   "source": [
    "point_distribution_B = np.random.randint(low=-30, high=0, size=(length,2))\n",
    "x_B,y_B = point_distribution_B.T"
   ]
  },
  {
   "cell_type": "code",
   "execution_count": 7,
   "metadata": {},
   "outputs": [
    {
     "data": {
      "text/plain": [
       "array([[ 12,  -6],\n",
       "       [ 15,  17],\n",
       "       [ 12,  12],\n",
       "       [ 17,  16],\n",
       "       [ 19,  10],\n",
       "       [  1, -10],\n",
       "       [ 16,  15],\n",
       "       [  9,  12],\n",
       "       [ 10,  -5],\n",
       "       [  1,  16]])"
      ]
     },
     "execution_count": 7,
     "metadata": {},
     "output_type": "execute_result"
    }
   ],
   "source": [
    "point_distribution_A[:10]"
   ]
  },
  {
   "cell_type": "code",
   "execution_count": 8,
   "metadata": {},
   "outputs": [
    {
     "data": {
      "text/plain": [
       "array([[-18, -26],\n",
       "       [-27, -26],\n",
       "       [-17, -20],\n",
       "       [ -3,  -1],\n",
       "       [ -3, -10],\n",
       "       [-16,  -1],\n",
       "       [-28,  -5],\n",
       "       [-26, -21],\n",
       "       [-26,  -9],\n",
       "       [-18,  -3]])"
      ]
     },
     "execution_count": 8,
     "metadata": {},
     "output_type": "execute_result"
    }
   ],
   "source": [
    "point_distribution_B[:10]"
   ]
  },
  {
   "cell_type": "code",
   "execution_count": 9,
   "metadata": {},
   "outputs": [
    {
     "data": {
      "text/plain": [
       "(array([12, 15, 12, 17, 19,  1, 16,  9, 10,  1]),\n",
       " array([ -6,  17,  12,  16,  10, -10,  15,  12,  -5,  16]),\n",
       " array([-18, -27, -17,  -3,  -3, -16, -28, -26, -26, -18]),\n",
       " array([-26, -26, -20,  -1, -10,  -1,  -5, -21,  -9,  -3]))"
      ]
     },
     "execution_count": 9,
     "metadata": {},
     "output_type": "execute_result"
    }
   ],
   "source": [
    "x_A[:10], y_A[:10], x_B[:10], y_B[:10]"
   ]
  },
  {
   "cell_type": "code",
   "execution_count": 10,
   "metadata": {},
   "outputs": [
    {
     "data": {
      "text/plain": [
       "<matplotlib.collections.PathCollection at 0x11ece0050>"
      ]
     },
     "execution_count": 10,
     "metadata": {},
     "output_type": "execute_result"
    },
    {
     "data": {
      "image/png": "[encoded data removed]",
      "text/plain": [
       "<Figure size 432x288 with 1 Axes>"
      ]
     },
     "metadata": {
      "needs_background": "light"
     },
     "output_type": "display_data"
    }
   ],
   "source": [
    "# Plot both distributions.  A distribution is blue, B distribution is orange.\n",
    "plt.scatter(x_A,y_A)\n",
    "plt.scatter(x_B,y_B)"
   ]
  },
  {
   "cell_type": "code",
   "execution_count": 11,
   "metadata": {},
   "outputs": [],
   "source": [
    "# Join data.\n",
    "all_x = np.concatenate((x_A,x_B), axis=0)\n",
    "all_y = np.concatenate((y_A,y_B), axis=0)"
   ]
  },
  {
   "cell_type": "code",
   "execution_count": 12,
   "metadata": {},
   "outputs": [
    {
     "data": {
      "text/plain": [
       "(array([ 12,  15,  12,  17,  19,   1,  16,   9,  10,   1,   4,   6,  15,\n",
       "         13,  19,  12,   9,  10,  -6,  -4,   3, -10,  19,  -2,  -7,  -4,\n",
       "         -6,   5,  17,   9,   0,   2,  14,  19,  15,  17,  -1,   0,  -9,\n",
       "         14,  -7,  -6,  11,  -9,  14, -10,  13,   0,  -2,  12,   0,  -8,\n",
       "         18,  19,  16,  -7,  12,  15,   7,   6,   8,   8,   3,  15,   7,\n",
       "         15,   7,   1,  11,  12,  -2,  14,   7,   5,   8,   6,  17,   7,\n",
       "          8,   3,  -9,  17,  -5,  -3, -10,  14,  11,   9,   6,  -9,  10,\n",
       "         -1,   6,  -9,   3,   5,   8,   8,  15,  11, -18, -27, -17,  -3,\n",
       "         -3, -16, -28, -26, -26, -18, -20, -29, -15, -18, -11,  -4, -30,\n",
       "        -12, -23, -20, -19, -20, -16, -19,  -1, -13,  -8, -13, -20, -30,\n",
       "        -17, -16, -20, -22, -23, -14, -23, -16, -14, -24, -15,  -1, -28,\n",
       "         -3,  -9, -16, -26, -12,  -2, -10, -10, -19, -14,  -8, -16,  -7,\n",
       "        -20, -17, -25, -13, -30, -23, -24,  -2,  -8, -20, -16,  -8, -29,\n",
       "         -9, -16,  -9, -12, -11, -18, -24, -28, -14, -10, -22, -23,  -8,\n",
       "        -12, -18, -21, -26, -25, -17, -26, -20,  -5, -21, -16, -25, -25,\n",
       "        -28, -24,  -9, -24, -12]),\n",
       " array([ -6,  17,  12,  16,  10, -10,  15,  12,  -5,  16,  -2,   1,  -2,\n",
       "         18,   2,  15,  -3,  10,   2,  -7,  10,   1,  15,  -3,   2,  16,\n",
       "          6,   9,  15,  11,  15,  18,   5,   1,   4,  11,  -4,  -2,  16,\n",
       "          4,   8,  12,  -2,   2,  -5,   1,  10,   1,  15,  -7,   5,  -5,\n",
       "         13,  -2,   7,  -6,  14,  -2,  -3,   5,  -3, -10,  -3,  13,  10,\n",
       "         10,  -8,   2,  -9,  13,  -8,  12,  10,  -1,  18,   3,  18,  -7,\n",
       "          9,   3,  10,   4,  19,  -1,  16, -10,  12,  -2,   2,  -8,  19,\n",
       "         11,  15,  16,   2,   1,  16,  -9,  19,   7, -26, -26, -20,  -1,\n",
       "        -10,  -1,  -5, -21,  -9,  -3, -28, -30,  -2, -12, -12, -23,  -7,\n",
       "        -29,  -9,  -3, -25,  -3, -30,  -2, -30, -24, -11, -13,  -4, -14,\n",
       "        -11, -19,  -1, -21, -13,  -1,  -2, -14, -12,  -3, -17, -13, -14,\n",
       "         -4, -12, -26, -23, -11, -23, -18, -15, -17, -28, -10, -30, -13,\n",
       "        -10, -27, -20, -15, -22, -27,  -5, -30, -20, -24,  -3, -30, -21,\n",
       "        -26,  -9, -12,  -2, -17, -16, -14,  -1, -27, -18, -22, -15, -21,\n",
       "         -7, -25, -24,  -3, -19, -10, -29, -29, -26, -19, -23,  -8,  -3,\n",
       "         -2,  -5, -17, -27, -30]))"
      ]
     },
     "execution_count": 12,
     "metadata": {},
     "output_type": "execute_result"
    }
   ],
   "source": [
    "all_x, all_y"
   ]
  },
  {
   "cell_type": "code",
   "execution_count": 13,
   "metadata": {},
   "outputs": [
    {
     "data": {
      "text/plain": [
       "(array([[ 12,  -6],\n",
       "        [ 15,  17],\n",
       "        [ 12,  12],\n",
       "        [ 17,  16],\n",
       "        [ 19,  10],\n",
       "        [  1, -10],\n",
       "        [ 16,  15],\n",
       "        [  9,  12],\n",
       "        [ 10,  -5],\n",
       "        [  1,  16],\n",
       "        [  4,  -2],\n",
       "        [  6,   1],\n",
       "        [ 15,  -2],\n",
       "        [ 13,  18],\n",
       "        [ 19,   2],\n",
       "        [ 12,  15],\n",
       "        [  9,  -3],\n",
       "        [ 10,  10],\n",
       "        [ -6,   2],\n",
       "        [ -4,  -7],\n",
       "        [  3,  10],\n",
       "        [-10,   1],\n",
       "        [ 19,  15],\n",
       "        [ -2,  -3],\n",
       "        [ -7,   2],\n",
       "        [ -4,  16],\n",
       "        [ -6,   6],\n",
       "        [  5,   9],\n",
       "        [ 17,  15],\n",
       "        [  9,  11],\n",
       "        [  0,  15],\n",
       "        [  2,  18],\n",
       "        [ 14,   5],\n",
       "        [ 19,   1],\n",
       "        [ 15,   4],\n",
       "        [ 17,  11],\n",
       "        [ -1,  -4],\n",
       "        [  0,  -2],\n",
       "        [ -9,  16],\n",
       "        [ 14,   4],\n",
       "        [ -7,   8],\n",
       "        [ -6,  12],\n",
       "        [ 11,  -2],\n",
       "        [ -9,   2],\n",
       "        [ 14,  -5],\n",
       "        [-10,   1],\n",
       "        [ 13,  10],\n",
       "        [  0,   1],\n",
       "        [ -2,  15],\n",
       "        [ 12,  -7],\n",
       "        [  0,   5],\n",
       "        [ -8,  -5],\n",
       "        [ 18,  13],\n",
       "        [ 19,  -2],\n",
       "        [ 16,   7],\n",
       "        [ -7,  -6],\n",
       "        [ 12,  14],\n",
       "        [ 15,  -2],\n",
       "        [  7,  -3],\n",
       "        [  6,   5],\n",
       "        [  8,  -3],\n",
       "        [  8, -10],\n",
       "        [  3,  -3],\n",
       "        [ 15,  13],\n",
       "        [  7,  10],\n",
       "        [ 15,  10],\n",
       "        [  7,  -8],\n",
       "        [  1,   2],\n",
       "        [ 11,  -9],\n",
       "        [ 12,  13],\n",
       "        [ -2,  -8],\n",
       "        [ 14,  12],\n",
       "        [  7,  10],\n",
       "        [  5,  -1],\n",
       "        [  8,  18],\n",
       "        [  6,   3],\n",
       "        [ 17,  18],\n",
       "        [  7,  -7],\n",
       "        [  8,   9],\n",
       "        [  3,   3],\n",
       "        [ -9,  10],\n",
       "        [ 17,   4],\n",
       "        [ -5,  19],\n",
       "        [ -3,  -1],\n",
       "        [-10,  16],\n",
       "        [ 14, -10],\n",
       "        [ 11,  12],\n",
       "        [  9,  -2],\n",
       "        [  6,   2],\n",
       "        [ -9,  -8],\n",
       "        [ 10,  19],\n",
       "        [ -1,  11],\n",
       "        [  6,  15],\n",
       "        [ -9,  16],\n",
       "        [  3,   2],\n",
       "        [  5,   1],\n",
       "        [  8,  16],\n",
       "        [  8,  -9],\n",
       "        [ 15,  19],\n",
       "        [ 11,   7],\n",
       "        [-18, -26],\n",
       "        [-27, -26],\n",
       "        [-17, -20],\n",
       "        [ -3,  -1],\n",
       "        [ -3, -10],\n",
       "        [-16,  -1],\n",
       "        [-28,  -5],\n",
       "        [-26, -21],\n",
       "        [-26,  -9],\n",
       "        [-18,  -3],\n",
       "        [-20, -28],\n",
       "        [-29, -30],\n",
       "        [-15,  -2],\n",
       "        [-18, -12],\n",
       "        [-11, -12],\n",
       "        [ -4, -23],\n",
       "        [-30,  -7],\n",
       "        [-12, -29],\n",
       "        [-23,  -9],\n",
       "        [-20,  -3],\n",
       "        [-19, -25],\n",
       "        [-20,  -3],\n",
       "        [-16, -30],\n",
       "        [-19,  -2],\n",
       "        [ -1, -30],\n",
       "        [-13, -24],\n",
       "        [ -8, -11],\n",
       "        [-13, -13],\n",
       "        [-20,  -4],\n",
       "        [-30, -14],\n",
       "        [-17, -11],\n",
       "        [-16, -19],\n",
       "        [-20,  -1],\n",
       "        [-22, -21],\n",
       "        [-23, -13],\n",
       "        [-14,  -1],\n",
       "        [-23,  -2],\n",
       "        [-16, -14],\n",
       "        [-14, -12],\n",
       "        [-24,  -3],\n",
       "        [-15, -17],\n",
       "        [ -1, -13],\n",
       "        [-28, -14],\n",
       "        [ -3,  -4],\n",
       "        [ -9, -12],\n",
       "        [-16, -26],\n",
       "        [-26, -23],\n",
       "        [-12, -11],\n",
       "        [ -2, -23],\n",
       "        [-10, -18],\n",
       "        [-10, -15],\n",
       "        [-19, -17],\n",
       "        [-14, -28],\n",
       "        [ -8, -10],\n",
       "        [-16, -30],\n",
       "        [ -7, -13],\n",
       "        [-20, -10],\n",
       "        [-17, -27],\n",
       "        [-25, -20],\n",
       "        [-13, -15],\n",
       "        [-30, -22],\n",
       "        [-23, -27],\n",
       "        [-24,  -5],\n",
       "        [ -2, -30],\n",
       "        [ -8, -20],\n",
       "        [-20, -24],\n",
       "        [-16,  -3],\n",
       "        [ -8, -30],\n",
       "        [-29, -21],\n",
       "        [ -9, -26],\n",
       "        [-16,  -9],\n",
       "        [ -9, -12],\n",
       "        [-12,  -2],\n",
       "        [-11, -17],\n",
       "        [-18, -16],\n",
       "        [-24, -14],\n",
       "        [-28,  -1],\n",
       "        [-14, -27],\n",
       "        [-10, -18],\n",
       "        [-22, -22],\n",
       "        [-23, -15],\n",
       "        [ -8, -21],\n",
       "        [-12,  -7],\n",
       "        [-18, -25],\n",
       "        [-21, -24],\n",
       "        [-26,  -3],\n",
       "        [-25, -19],\n",
       "        [-17, -10],\n",
       "        [-26, -29],\n",
       "        [-20, -29],\n",
       "        [ -5, -26],\n",
       "        [-21, -19],\n",
       "        [-16, -23],\n",
       "        [-25,  -8],\n",
       "        [-25,  -3],\n",
       "        [-28,  -2],\n",
       "        [-24,  -5],\n",
       "        [ -9, -17],\n",
       "        [-24, -27],\n",
       "        [-12, -30]]),\n",
       " (200, 2))"
      ]
     },
     "execution_count": 13,
     "metadata": {},
     "output_type": "execute_result"
    }
   ],
   "source": [
    "all_data = np.vstack((all_x, all_y)).T\n",
    "all_data, all_data.shape"
   ]
  },
  {
   "cell_type": "code",
   "execution_count": 14,
   "metadata": {},
   "outputs": [
    {
     "data": {
      "text/plain": [
       "(array([0., 0., 0., 0., 0., 0., 0., 0., 0., 0., 0., 0., 0., 0., 0., 0., 0.,\n",
       "        0., 0., 0., 0., 0., 0., 0., 0., 0., 0., 0., 0., 0., 0., 0., 0., 0.,\n",
       "        0., 0., 0., 0., 0., 0., 0., 0., 0., 0., 0., 0., 0., 0., 0., 0., 0.,\n",
       "        0., 0., 0., 0., 0., 0., 0., 0., 0., 0., 0., 0., 0., 0., 0., 0., 0.,\n",
       "        0., 0., 0., 0., 0., 0., 0., 0., 0., 0., 0., 0., 0., 0., 0., 0., 0.,\n",
       "        0., 0., 0., 0., 0., 0., 0., 0., 0., 0., 0., 0., 0., 0., 0., 1., 1.,\n",
       "        1., 1., 1., 1., 1., 1., 1., 1., 1., 1., 1., 1., 1., 1., 1., 1., 1.,\n",
       "        1., 1., 1., 1., 1., 1., 1., 1., 1., 1., 1., 1., 1., 1., 1., 1., 1.,\n",
       "        1., 1., 1., 1., 1., 1., 1., 1., 1., 1., 1., 1., 1., 1., 1., 1., 1.,\n",
       "        1., 1., 1., 1., 1., 1., 1., 1., 1., 1., 1., 1., 1., 1., 1., 1., 1.,\n",
       "        1., 1., 1., 1., 1., 1., 1., 1., 1., 1., 1., 1., 1., 1., 1., 1., 1.,\n",
       "        1., 1., 1., 1., 1., 1., 1., 1., 1., 1., 1., 1., 1.]),\n",
       " (200,))"
      ]
     },
     "execution_count": 14,
     "metadata": {},
     "output_type": "execute_result"
    }
   ],
   "source": [
    "# A distribution = 0 (blue), B distribution = 1 (orange)\n",
    "labels = np.concatenate((np.zeros(length),np.ones(length)),axis=0)\n",
    "labels, labels.shape"
   ]
  },
  {
   "cell_type": "code",
   "execution_count": 15,
   "metadata": {},
   "outputs": [],
   "source": [
    "clf = tree.DecisionTreeClassifier(random_state=0,max_depth=2)"
   ]
  },
  {
   "cell_type": "code",
   "execution_count": 16,
   "metadata": {},
   "outputs": [],
   "source": [
    "fitted = clf.fit(all_data, labels)"
   ]
  },
  {
   "cell_type": "code",
   "execution_count": 17,
   "metadata": {},
   "outputs": [
    {
     "data": {
      "text/plain": [
       "<matplotlib.collections.PathCollection at 0x11edbf6d0>"
      ]
     },
     "execution_count": 17,
     "metadata": {},
     "output_type": "execute_result"
    },
    {
     "data": {
      "image/png": "[encoded data removed]",
      "text/plain": [
       "<Figure size 432x288 with 1 Axes>"
      ]
     },
     "metadata": {
      "needs_background": "light"
     },
     "output_type": "display_data"
    }
   ],
   "source": [
    "# Create and plot test data.  Results should be 0, 1, 0, ?, ?, 1\n",
    "test_data = np.array([[13,5],[-12,-7],[100,100],[100,-100],[-100,100],[-100,-100]])\n",
    "x_test,y_test = test_data.T\n",
    "x_test,y_test\n",
    "plt.scatter(x_test,y_test)"
   ]
  },
  {
   "cell_type": "code",
   "execution_count": 18,
   "metadata": {},
   "outputs": [
    {
     "data": {
      "text/plain": [
       "array([0., 1., 0., 1., 0., 1.])"
      ]
     },
     "execution_count": 18,
     "metadata": {},
     "output_type": "execute_result"
    }
   ],
   "source": [
    "fitted.predict(test_data)"
   ]
  },
  {
   "cell_type": "code",
   "execution_count": 24,
   "metadata": {},
   "outputs": [
    {
     "data": {
      "text/plain": [
       "array([[0.96808511, 0.03191489],\n",
       "       [0.02173913, 0.97826087],\n",
       "       [0.96808511, 0.03191489],\n",
       "       [0.        , 1.        ],\n",
       "       [1.        , 0.        ],\n",
       "       [0.02173913, 0.97826087]])"
      ]
     },
     "execution_count": 24,
     "metadata": {},
     "output_type": "execute_result"
    }
   ],
   "source": [
    "fitted.predict_proba(test_data)"
   ]
  },
  {
   "cell_type": "code",
   "execution_count": 19,
   "metadata": {},
   "outputs": [
    {
     "data": {
      "text/plain": [
       "[Text(167.4, 181.2, 'X[0] <= -7.5\\ngini = 0.5\\nsamples = 200\\nvalue = [100, 100]'),\n",
       " Text(83.7, 108.72, 'X[1] <= 0.0\\ngini = 0.165\\nsamples = 99\\nvalue = [9, 90]'),\n",
       " Text(41.85, 36.23999999999998, 'gini = 0.043\\nsamples = 92\\nvalue = [2, 90]'),\n",
       " Text(125.55000000000001, 36.23999999999998, 'gini = 0.0\\nsamples = 7\\nvalue = [7, 0]'),\n",
       " Text(251.10000000000002, 108.72, 'X[1] <= -11.5\\ngini = 0.178\\nsamples = 101\\nvalue = [91, 10]'),\n",
       " Text(209.25, 36.23999999999998, 'gini = 0.0\\nsamples = 7\\nvalue = [0, 7]'),\n",
       " Text(292.95, 36.23999999999998, 'gini = 0.062\\nsamples = 94\\nvalue = [91, 3]')]"
      ]
     },
     "execution_count": 19,
     "metadata": {},
     "output_type": "execute_result"
    },
    {
     "data": {
      "image/png": "[encoded data removed]",
      "text/plain": [
       "<Figure size 432x288 with 1 Axes>"
      ]
     },
     "metadata": {
      "needs_background": "light"
     },
     "output_type": "display_data"
    }
   ],
   "source": [
    "tree.plot_tree(clf)"
   ]
  },
  {
   "cell_type": "code",
   "execution_count": 20,
   "metadata": {},
   "outputs": [],
   "source": [
    "from sklearn.model_selection import cross_val_score"
   ]
  },
  {
   "cell_type": "code",
   "execution_count": 23,
   "metadata": {},
   "outputs": [],
   "source": [
    "cross_val_score?"
   ]
  },
  {
   "cell_type": "code",
   "execution_count": 22,
   "metadata": {},
   "outputs": [
    {
     "data": {
      "text/plain": [
       "array([0.95 , 0.95 , 0.9  , 0.975, 0.975])"
      ]
     },
     "execution_count": 22,
     "metadata": {},
     "output_type": "execute_result"
    }
   ],
   "source": [
    "cross_val_score(clf, all_data, labels)"
   ]
  },
  {
   "cell_type": "code",
   "execution_count": null,
   "metadata": {},
   "outputs": [],
   "source": []
  },
  {
   "cell_type": "code",
   "execution_count": null,
   "metadata": {},
   "outputs": [],
   "source": []
  }
 ],
 "metadata": {
  "kernelspec": {
   "display_name": "Python [conda env:ml]",
   "language": "python",
   "name": "conda-env-ml-py"
  },
  "language_info": {
   "codemirror_mode": {
    "name": "ipython",
    "version": 3
   },
   "file_extension": ".py",
   "mimetype": "text/x-python",
   "name": "python",
   "nbconvert_exporter": "python",
   "pygments_lexer": "ipython3",
   "version": "3.7.9"
  }
 },
 "nbformat": 4,
 "nbformat_minor": 4
}
