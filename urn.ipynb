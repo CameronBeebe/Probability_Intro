{
 "cells": [
  {
   "cell_type": "code",
   "execution_count": null,
   "metadata": {},
   "outputs": [],
   "source": [
    "# We want to model an urn with multi-colored balls,\n",
    "# where we can change the composition by adding balls.\n",
    "# Furthermore, we want to be able to randomly draw\n",
    "# from this urn, and visualize the change in composition\n",
    "# (and therefore a change in the probability distribution.)\n",
    "import numpy.random\n",
    "from collections import Counter"
   ]
  },
  {
   "cell_type": "code",
   "execution_count": null,
   "metadata": {},
   "outputs": [],
   "source": [
    "# Let's make a dictionary.\n",
    "urn = dict()"
   ]
  },
  {
   "cell_type": "code",
   "execution_count": null,
   "metadata": {},
   "outputs": [],
   "source": [
    "# Add initial balls.\n",
    "urn.update({\"blue\":3, \"yellow\":3, \"red\":3})"
   ]
  },
  {
   "cell_type": "code",
   "execution_count": null,
   "metadata": {},
   "outputs": [],
   "source": [
    "urn"
   ]
  },
  {
   "cell_type": "code",
   "execution_count": null,
   "metadata": {},
   "outputs": [],
   "source": [
    "urn['blue'] += 1\n",
    "urn['blue']"
   ]
  },
  {
   "cell_type": "code",
   "execution_count": null,
   "metadata": {},
   "outputs": [],
   "source": [
    "urn"
   ]
  },
  {
   "cell_type": "code",
   "execution_count": null,
   "metadata": {},
   "outputs": [],
   "source": [
    "total_num = sum([urn[color] for color in urn])\n",
    "total_num"
   ]
  },
  {
   "cell_type": "code",
   "execution_count": null,
   "metadata": {},
   "outputs": [],
   "source": [
    "probabilities = [urn[color]/total_num for color in urn]\n",
    "probabilities"
   ]
  },
  {
   "cell_type": "code",
   "execution_count": null,
   "metadata": {},
   "outputs": [],
   "source": [
    "# We can also make a dictionary to keep track of probabilities\n",
    "prob_dict = dict(zip(urn.keys(),probabilities))\n",
    "prob_dict"
   ]
  },
  {
   "cell_type": "code",
   "execution_count": null,
   "metadata": {},
   "outputs": [],
   "source": [
    "#for color in urn:\n",
    "#    probabilities.append(urn[color]/total_num)"
   ]
  },
  {
   "cell_type": "code",
   "execution_count": null,
   "metadata": {},
   "outputs": [],
   "source": [
    "numpy.random.choice?"
   ]
  },
  {
   "cell_type": "code",
   "execution_count": null,
   "metadata": {},
   "outputs": [],
   "source": [
    "# Drawing from (static) urn (\"with replacement\")\n",
    "draw_hundred = numpy.random.choice(list(urn.keys()), size=10000, p=probabilities)\n",
    "Counter(draw_hundred)"
   ]
  },
  {
   "cell_type": "code",
   "execution_count": null,
   "metadata": {},
   "outputs": [],
   "source": [
    "# Now we have an urn, and we know how to draw from it.\n",
    "# A toy model of reinforcement learning will be a loop.\n",
    "# The loop will encode assumptions about reinforcement,\n",
    "# e.g. the goal, the amount of reinforcement (punishment)."
   ]
  },
  {
   "cell_type": "code",
   "execution_count": null,
   "metadata": {},
   "outputs": [],
   "source": [
    "def reinforcement_loop(urn=None, goal=None, iterations=10):\n",
    "    '''\n",
    "    This function is a simple reinforcement loop.\n",
    "    \n",
    "    Takes three arguments.\n",
    "    \n",
    "    urn: dictionary\n",
    "    goal: key from urn\n",
    "    iterations: integer\n",
    "    \n",
    "    '''\n",
    "    \n",
    "    assert goal in urn.keys(), 'Please choose a color from the urn'\n",
    "    \n",
    "    # Number of loops\n",
    "    i = 0\n",
    "    \n",
    "    # Initialize probabilities\n",
    "    total_num = sum([urn[color] for color in urn])\n",
    "    probabilities = [urn[color]/total_num for color in urn]\n",
    "    \n",
    "    prob_dict = dict(zip(urn.keys(),probabilities))\n",
    "    \n",
    "    # Loop\n",
    "    while i < iterations:\n",
    "    \n",
    "        # Draw\n",
    "        draw = numpy.random.choice(list(urn.keys()), size=1, p=probabilities)\n",
    "        print(f\"I drew a {draw.item()} ball. There were {total_num} balls, and the probability of drawing {draw.item()} was {prob_dict[draw.item()]}.\")\n",
    "        \n",
    "        # Reinforce +1 if success!\n",
    "        if draw == goal:\n",
    "            urn[goal] += 1\n",
    "        \n",
    "        # Re-calculate total number of balls in urn\n",
    "        total_num = sum([urn[color] for color in urn])\n",
    "        print(f'Number of balls in urn after reinforcing: {total_num}')\n",
    "        \n",
    "        # Update probabilities\n",
    "        probabilities = [urn[color]/total_num for color in urn]\n",
    "        prob_dict = dict(zip(urn.keys(), probabilities))\n",
    "        \n",
    "        # Increment i\n",
    "        i += 1\n",
    "    \n",
    "    pass"
   ]
  },
  {
   "cell_type": "code",
   "execution_count": null,
   "metadata": {},
   "outputs": [],
   "source": []
  },
  {
   "cell_type": "code",
   "execution_count": null,
   "metadata": {},
   "outputs": [],
   "source": [
    "# Reset urn since we are in a jupyter notebook and \n",
    "# changing the same dictionary object over and over.\n",
    "urn.update({\"blue\":3, \"yellow\":3, \"red\":3})\n",
    "reinforcement_loop(urn=urn, goal=\"blue\", iterations=20)"
   ]
  },
  {
   "cell_type": "code",
   "execution_count": null,
   "metadata": {},
   "outputs": [],
   "source": []
  },
  {
   "cell_type": "code",
   "execution_count": null,
   "metadata": {},
   "outputs": [],
   "source": []
  }
 ],
 "metadata": {
  "kernelspec": {
   "display_name": "Python 3",
   "language": "python",
   "name": "python3"
  },
  "language_info": {
   "codemirror_mode": {
    "name": "ipython",
    "version": 3
   },
   "file_extension": ".py",
   "mimetype": "text/x-python",
   "name": "python",
   "nbconvert_exporter": "python",
   "pygments_lexer": "ipython3",
   "version": "3.7.7"
  }
 },
 "nbformat": 4,
 "nbformat_minor": 4
}
