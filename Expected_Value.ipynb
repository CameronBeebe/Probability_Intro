{
 "cells": [
  {
   "cell_type": "code",
   "execution_count": 1,
   "metadata": {},
   "outputs": [],
   "source": [
    "import numpy as np"
   ]
  },
  {
   "cell_type": "code",
   "execution_count": null,
   "metadata": {},
   "outputs": [],
   "source": [
    "# CB: The expected value of a set of events (which define a random variable, X) \n",
    "# is the sum of the products of the probability of those events with the value outcome."
   ]
  },
  {
   "cell_type": "code",
   "execution_count": 33,
   "metadata": {},
   "outputs": [
    {
     "data": {
      "text/latex": [
       "$$E(X) = \\sum_i^n x_i p_i$$\n"
      ],
      "text/plain": [
       "<IPython.core.display.Latex object>"
      ]
     },
     "metadata": {},
     "output_type": "display_data"
    }
   ],
   "source": [
    "%%latex\n",
    "$$E(X) = \\sum_i^n x_i p_i$$"
   ]
  },
  {
   "cell_type": "code",
   "execution_count": null,
   "metadata": {},
   "outputs": [],
   "source": [
    "# CB: We are talking about a random variable X representing the roll of a (fair!) die."
   ]
  },
  {
   "cell_type": "code",
   "execution_count": 47,
   "metadata": {},
   "outputs": [
    {
     "data": {
      "text/latex": [
       "$$E(X) = \\sum_i^n x_i p_i = \\sum_{i=1}^6 x_i p_i = 1\\cdot \\frac{1}{6} + 2\\cdot \\frac{1}{6} + 3\\cdot \\frac{1}{6} + 4\\cdot \\frac{1}{6} + 5 \\cdot \\frac{1}{6} + 6 \\cdot \\frac{1}{6} = \\frac{1}{6} + \\frac{2}{6} + \\frac{3}{6} + \\frac{4}{6} + \\frac{5}{6} + \\frac{6}{6} = \\frac{21}{6} = \\frac{7}{2} = 3.5$$\n",
       "\n"
      ],
      "text/plain": [
       "<IPython.core.display.Latex object>"
      ]
     },
     "metadata": {},
     "output_type": "display_data"
    }
   ],
   "source": [
    "%%latex\n",
    "$$E(X) = \\sum_i^n x_i p_i = \\sum_{i=1}^6 x_i p_i = 1\\cdot \\frac{1}{6} + 2\\cdot \\frac{1}{6} + 3\\cdot \\frac{1}{6} + 4\\cdot \\frac{1}{6} + 5 \\cdot \\frac{1}{6} + 6 \\cdot \\frac{1}{6} = \\frac{1}{6} + \\frac{2}{6} + \\frac{3}{6} + \\frac{4}{6} + \\frac{5}{6} + \\frac{6}{6} = \\frac{21}{6} = \\frac{7}{2} = 3.5$$\n",
    "\n"
   ]
  },
  {
   "cell_type": "code",
   "execution_count": 3,
   "metadata": {},
   "outputs": [],
   "source": [
    "# CB: iter(int,1) is a hack to create an infinite iterator, which makes the generator expression produce an infinite generator.\n",
    "# This is our random variable representing a fair die.\n",
    "Die_RV = (np.random.randint(6) + 1 for x in iter(int, 1))"
   ]
  },
  {
   "cell_type": "code",
   "execution_count": 4,
   "metadata": {},
   "outputs": [
    {
     "name": "stdout",
     "output_type": "stream",
     "text": [
      "4\n",
      "5\n",
      "4\n",
      "6\n",
      "6\n",
      "3\n",
      "5\n",
      "4\n",
      "1\n",
      "6\n"
     ]
    }
   ],
   "source": [
    "# CB: Ten throws (experiments) of the random variable (die system).\n",
    "for i in range(10):\n",
    "    print(next(Die_RV))"
   ]
  },
  {
   "cell_type": "code",
   "execution_count": 5,
   "metadata": {},
   "outputs": [],
   "source": [
    "# CB: Create a list of outcomes.\n",
    "list_outcomes = [next(Die_RV) for i in range(100)]\n",
    "#list_outcomes"
   ]
  },
  {
   "cell_type": "code",
   "execution_count": 6,
   "metadata": {},
   "outputs": [
    {
     "data": {
      "text/plain": [
       "3.33"
      ]
     },
     "execution_count": 6,
     "metadata": {},
     "output_type": "execute_result"
    }
   ],
   "source": [
    "np.mean(list_outcomes)"
   ]
  },
  {
   "cell_type": "code",
   "execution_count": 7,
   "metadata": {},
   "outputs": [],
   "source": [
    "# CB: To illustrate using the law of large numbers, \n",
    "# lets see what the mean is for several orders of magnitude (be careful doing too many orders!).\n",
    "# We expect the limit behavior to approach the analytical solution of 3.5.\n",
    "def LLN_mean_simulator():\n",
    "    orders_of_mag = [10**n for n in range(7)]\n",
    "    #print(orders_of_mag)\n",
    "    for i in orders_of_mag:\n",
    "        list_outcomes = [next(Die_RV) for x in range(i)]\n",
    "        print('This sim of the RV representing a fair die had {} throws, and resulted in an expected value {}.'.format(i,np.mean(list_outcomes)))\n",
    "        \n",
    "        \n",
    "        "
   ]
  },
  {
   "cell_type": "code",
   "execution_count": 8,
   "metadata": {},
   "outputs": [
    {
     "name": "stdout",
     "output_type": "stream",
     "text": [
      "This sim of the RV representing a fair die had 1 throws, and resulted in an expected value 6.0.\n",
      "This sim of the RV representing a fair die had 10 throws, and resulted in an expected value 3.3.\n",
      "This sim of the RV representing a fair die had 100 throws, and resulted in an expected value 3.37.\n",
      "This sim of the RV representing a fair die had 1000 throws, and resulted in an expected value 3.459.\n",
      "This sim of the RV representing a fair die had 10000 throws, and resulted in an expected value 3.5006.\n",
      "This sim of the RV representing a fair die had 100000 throws, and resulted in an expected value 3.50342.\n",
      "This sim of the RV representing a fair die had 1000000 throws, and resulted in an expected value 3.498012.\n"
     ]
    }
   ],
   "source": [
    "LLN_mean_simulator()"
   ]
  },
  {
   "cell_type": "code",
   "execution_count": null,
   "metadata": {},
   "outputs": [],
   "source": []
  }
 ],
 "metadata": {
  "kernelspec": {
   "display_name": "Python 3",
   "language": "python",
   "name": "python3"
  },
  "language_info": {
   "codemirror_mode": {
    "name": "ipython",
    "version": 3
   },
   "file_extension": ".py",
   "mimetype": "text/x-python",
   "name": "python",
   "nbconvert_exporter": "python",
   "pygments_lexer": "ipython3",
   "version": "3.7.7"
  }
 },
 "nbformat": 4,
 "nbformat_minor": 4
}
