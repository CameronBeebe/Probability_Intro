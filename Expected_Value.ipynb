{
 "cells": [
  {
   "cell_type": "code",
   "execution_count": 1,
   "metadata": {},
   "outputs": [],
   "source": [
    "import numpy as np"
   ]
  },
  {
   "cell_type": "code",
   "execution_count": 2,
   "metadata": {},
   "outputs": [],
   "source": [
    "# CB: The expected value of a set of events (which define a random variable, X) \n",
    "# is the sum of the products of the probability of those events with the value outcome."
   ]
  },
  {
   "cell_type": "code",
   "execution_count": 3,
   "metadata": {},
   "outputs": [
    {
     "data": {
      "text/latex": [
       "$$E(X) = \\sum_i^n x_i p_i$$\n"
      ],
      "text/plain": [
       "<IPython.core.display.Latex object>"
      ]
     },
     "metadata": {},
     "output_type": "display_data"
    }
   ],
   "source": [
    "%%latex\n",
    "$$E(X) = \\sum_i^n x_i p_i$$"
   ]
  },
  {
   "cell_type": "code",
   "execution_count": 4,
   "metadata": {},
   "outputs": [],
   "source": [
    "# CB: We are talking about a random variable X representing the roll of a (fair!) die."
   ]
  },
  {
   "cell_type": "code",
   "execution_count": 5,
   "metadata": {},
   "outputs": [
    {
     "data": {
      "text/latex": [
       "$$E(X) = \\sum_i^n x_i p_i = \\sum_{i=1}^6 x_i p_i = 1\\cdot \\frac{1}{6} + 2\\cdot \\frac{1}{6} + 3\\cdot \\frac{1}{6} + 4\\cdot \\frac{1}{6} + 5 \\cdot \\frac{1}{6} + 6 \\cdot \\frac{1}{6} = \\frac{1}{6} + \\frac{2}{6} + \\frac{3}{6} + \\frac{4}{6} + \\frac{5}{6} + \\frac{6}{6} = \\frac{21}{6} = \\frac{7}{2} = 3.5$$\n",
       "\n"
      ],
      "text/plain": [
       "<IPython.core.display.Latex object>"
      ]
     },
     "metadata": {},
     "output_type": "display_data"
    }
   ],
   "source": [
    "%%latex\n",
    "$$E(X) = \\sum_i^n x_i p_i = \\sum_{i=1}^6 x_i p_i = 1\\cdot \\frac{1}{6} + 2\\cdot \\frac{1}{6} + 3\\cdot \\frac{1}{6} + 4\\cdot \\frac{1}{6} + 5 \\cdot \\frac{1}{6} + 6 \\cdot \\frac{1}{6} = \\frac{1}{6} + \\frac{2}{6} + \\frac{3}{6} + \\frac{4}{6} + \\frac{5}{6} + \\frac{6}{6} = \\frac{21}{6} = \\frac{7}{2} = 3.5$$\n",
    "\n"
   ]
  },
  {
   "cell_type": "code",
   "execution_count": 6,
   "metadata": {},
   "outputs": [],
   "source": [
    "# CB: iter(int,1) is a hack to create an infinite iterator, which makes the generator expression produce an infinite generator.\n",
    "# This is our random variable representing a fair die.\n",
    "Die_RV = (np.random.randint(6) + 1 for x in iter(int, 1))"
   ]
  },
  {
   "cell_type": "code",
   "execution_count": 7,
   "metadata": {},
   "outputs": [
    {
     "name": "stdout",
     "output_type": "stream",
     "text": [
      "1\n",
      "5\n",
      "6\n",
      "5\n",
      "1\n",
      "3\n",
      "2\n",
      "6\n",
      "3\n",
      "3\n"
     ]
    }
   ],
   "source": [
    "# CB: Ten throws (experiments) of the random variable (die system).\n",
    "for i in range(10):\n",
    "    print(next(Die_RV))"
   ]
  },
  {
   "cell_type": "code",
   "execution_count": 8,
   "metadata": {},
   "outputs": [],
   "source": [
    "# CB: Create a list of outcomes.\n",
    "list_outcomes = [next(Die_RV) for i in range(100)]\n",
    "#list_outcomes"
   ]
  },
  {
   "cell_type": "code",
   "execution_count": 9,
   "metadata": {},
   "outputs": [
    {
     "data": {
      "text/plain": [
       "3.47"
      ]
     },
     "execution_count": 9,
     "metadata": {},
     "output_type": "execute_result"
    }
   ],
   "source": [
    "# Note: This is a special case, with uniform probability, so it effectively reduces to the mean calculation.\n",
    "np.mean(list_outcomes)"
   ]
  },
  {
   "cell_type": "code",
   "execution_count": 10,
   "metadata": {},
   "outputs": [],
   "source": [
    "# CB: To illustrate using the law of large numbers, \n",
    "# lets see what the mean is for several orders of magnitude (be careful doing too many orders!).\n",
    "# We expect the limit behavior to approach the analytical solution of 3.5.\n",
    "def LLN_mean_simulator():\n",
    "    orders_of_mag = [10**n for n in range(7)]\n",
    "    #print(orders_of_mag)\n",
    "    for i in orders_of_mag:\n",
    "        list_outcomes = [next(Die_RV) for x in range(i)]\n",
    "        print('This sim of the RV representing a fair die had {} throws, and resulted in an expected value {}.'.format(i,np.mean(list_outcomes)))\n",
    "        \n",
    "        \n",
    "        "
   ]
  },
  {
   "cell_type": "code",
   "execution_count": 11,
   "metadata": {},
   "outputs": [
    {
     "name": "stdout",
     "output_type": "stream",
     "text": [
      "This sim of the RV representing a fair die had 1 throws, and resulted in an expected value 5.0.\n",
      "This sim of the RV representing a fair die had 10 throws, and resulted in an expected value 4.6.\n",
      "This sim of the RV representing a fair die had 100 throws, and resulted in an expected value 3.19.\n",
      "This sim of the RV representing a fair die had 1000 throws, and resulted in an expected value 3.466.\n",
      "This sim of the RV representing a fair die had 10000 throws, and resulted in an expected value 3.4855.\n",
      "This sim of the RV representing a fair die had 100000 throws, and resulted in an expected value 3.49903.\n",
      "This sim of the RV representing a fair die had 1000000 throws, and resulted in an expected value 3.499099.\n"
     ]
    }
   ],
   "source": [
    "LLN_mean_simulator()"
   ]
  },
  {
   "cell_type": "code",
   "execution_count": 12,
   "metadata": {},
   "outputs": [],
   "source": [
    "# CB: For the die, the \"values\" are identical to the physical states of the die.\n",
    "# So the expected value is telling us what the average number will be on a throw.\n",
    "# However, we could also associate each outcome with a dollar amount.\n",
    "# Then, in the calculation, instead of putting the number on a die face,\n",
    "# we can plug in the dollar value associated with that die face."
   ]
  },
  {
   "cell_type": "code",
   "execution_count": 13,
   "metadata": {},
   "outputs": [],
   "source": [
    "dollars = [20,100,5,2,300,5000]"
   ]
  },
  {
   "cell_type": "code",
   "execution_count": 14,
   "metadata": {},
   "outputs": [
    {
     "data": {
      "text/plain": [
       "904.5"
      ]
     },
     "execution_count": 14,
     "metadata": {},
     "output_type": "execute_result"
    }
   ],
   "source": [
    "np.mean(dollars)"
   ]
  },
  {
   "cell_type": "code",
   "execution_count": 15,
   "metadata": {},
   "outputs": [
    {
     "data": {
      "text/plain": [
       "904.5"
      ]
     },
     "execution_count": 15,
     "metadata": {},
     "output_type": "execute_result"
    }
   ],
   "source": [
    "# Check sum:\n",
    "20*1/6 + 100*1/6 + 5*1/6 + 2*1/6 + 300*1/6 + 5000*1/6"
   ]
  },
  {
   "cell_type": "code",
   "execution_count": 16,
   "metadata": {},
   "outputs": [
    {
     "data": {
      "text/plain": [
       "2119.25"
      ]
     },
     "execution_count": 16,
     "metadata": {},
     "output_type": "execute_result"
    }
   ],
   "source": [
    "# However, remember that the mean is just a special case.  \n",
    "# We could have different weights.\n",
    "20*1/12 + 100*1/12 + 5*1/12 + 2*3/12 + 300*1/12 + 5000*5/12"
   ]
  },
  {
   "cell_type": "code",
   "execution_count": 17,
   "metadata": {},
   "outputs": [],
   "source": [
    "# CB: We can create a function which takes two lists as arguments.\n",
    "# It sums the product of the values and probabilities (i.e. a dot product).\n",
    "# That is, it returns the expected value as defined above.\n",
    "def expected_value(values, probabilities):\n",
    "    return np.dot(values, probabilities)"
   ]
  },
  {
   "cell_type": "code",
   "execution_count": 18,
   "metadata": {},
   "outputs": [],
   "source": [
    "vals = dollars\n",
    "probs = [1/12, 1/12, 1/12, 3/12, 1/12, 5/12]"
   ]
  },
  {
   "cell_type": "code",
   "execution_count": 19,
   "metadata": {},
   "outputs": [
    {
     "data": {
      "text/plain": [
       "2119.25"
      ]
     },
     "execution_count": 19,
     "metadata": {},
     "output_type": "execute_result"
    }
   ],
   "source": [
    "expected_value(vals,probs)"
   ]
  },
  {
   "cell_type": "code",
   "execution_count": null,
   "metadata": {},
   "outputs": [],
   "source": []
  }
 ],
 "metadata": {
  "kernelspec": {
   "display_name": "Python 3",
   "language": "python",
   "name": "python3"
  },
  "language_info": {
   "codemirror_mode": {
    "name": "ipython",
    "version": 3
   },
   "file_extension": ".py",
   "mimetype": "text/x-python",
   "name": "python",
   "nbconvert_exporter": "python",
   "pygments_lexer": "ipython3",
   "version": "3.7.7"
  }
 },
 "nbformat": 4,
 "nbformat_minor": 4
}
