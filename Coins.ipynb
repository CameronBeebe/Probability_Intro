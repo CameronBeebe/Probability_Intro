{
 "cells": [
  {
   "cell_type": "code",
   "execution_count": 24,
   "metadata": {},
   "outputs": [],
   "source": [
    "# Coins!\n",
    "import numpy as np"
   ]
  },
  {
   "cell_type": "code",
   "execution_count": 25,
   "metadata": {},
   "outputs": [],
   "source": [
    "# Create an infinite coin flipper.  Heads = 0, Tails = 1\n",
    "coin_generator = (np.random.randint(0, 2) for x in iter(int, 1))"
   ]
  },
  {
   "cell_type": "code",
   "execution_count": 26,
   "metadata": {},
   "outputs": [
    {
     "name": "stdout",
     "output_type": "stream",
     "text": [
      "0\n",
      "1\n",
      "0\n",
      "0\n",
      "0\n",
      "1\n",
      "1\n",
      "0\n",
      "0\n",
      "0\n"
     ]
    }
   ],
   "source": [
    "for i in range(10):\n",
    "    print(next(coin_generator))"
   ]
  },
  {
   "cell_type": "code",
   "execution_count": 30,
   "metadata": {},
   "outputs": [],
   "source": [
    "def toss_some_coins(n_tosses, n_coins):\n",
    "    '''\n",
    "    Takes a number of coins and a number of tosses.\n",
    "    \n",
    "    Returns a list of lists of tosses of those coins.\n",
    "    '''\n",
    "    list_of_lists = []\n",
    "    for i in range(n_coins):\n",
    "        the_list = []\n",
    "        for j in range(n_tosses):\n",
    "            the_list.append(next(coin_generator))\n",
    "        list_of_lists.append(the_list)\n",
    "    return list_of_lists"
   ]
  },
  {
   "cell_type": "code",
   "execution_count": 31,
   "metadata": {},
   "outputs": [
    {
     "data": {
      "text/plain": [
       "[[0, 0, 1, 1, 0],\n",
       " [1, 0, 0, 1, 1],\n",
       " [0, 0, 0, 1, 1],\n",
       " [0, 1, 1, 1, 0],\n",
       " [0, 1, 0, 0, 0]]"
      ]
     },
     "execution_count": 31,
     "metadata": {},
     "output_type": "execute_result"
    }
   ],
   "source": [
    "toss_some_coins(n_tosses=5,n_coins=5)"
   ]
  },
  {
   "cell_type": "code",
   "execution_count": 32,
   "metadata": {},
   "outputs": [],
   "source": [
    "# What is the probability, when tossing 3 coins, that at least two are heads?\n",
    "# Analytically, it is 1/2: add the equal probabilities of combinations of 2 heads \n",
    "# with the equal probability of all three being heads."
   ]
  },
  {
   "cell_type": "code",
   "execution_count": 39,
   "metadata": {},
   "outputs": [
    {
     "data": {
      "text/latex": [
       "$P(\\geq 2H) = P(2H \\lor 3H) = P(2H) + P(3H) = (\\frac{1}{8} + \\frac{1}{8} + \\frac{1}{8}) + \\frac{1}{8} = \\frac{1}{2}$\n"
      ],
      "text/plain": [
       "<IPython.core.display.Latex object>"
      ]
     },
     "metadata": {},
     "output_type": "display_data"
    }
   ],
   "source": [
    "%%latex\n",
    "$P(\\geq 2H) = P(2H \\lor 3H) = P(2H) + P(3H) = (\\frac{1}{8} + \\frac{1}{8} + \\frac{1}{8}) + \\frac{1}{8} = \\frac{1}{2}$"
   ]
  },
  {
   "cell_type": "code",
   "execution_count": 43,
   "metadata": {},
   "outputs": [],
   "source": [
    "tosses = toss_some_coins(n_tosses=10,n_coins=3)"
   ]
  },
  {
   "cell_type": "code",
   "execution_count": 52,
   "metadata": {},
   "outputs": [
    {
     "data": {
      "text/plain": [
       "array([[1, 1, 1],\n",
       "       [1, 1, 1],\n",
       "       [0, 1, 0],\n",
       "       [0, 1, 1],\n",
       "       [1, 1, 1],\n",
       "       [0, 1, 1],\n",
       "       [1, 0, 1],\n",
       "       [1, 1, 1],\n",
       "       [0, 1, 0],\n",
       "       [1, 1, 0]])"
      ]
     },
     "execution_count": 52,
     "metadata": {},
     "output_type": "execute_result"
    }
   ],
   "source": [
    "tosses_transpose = np.array(tosses).T\n",
    "tosses_transpose"
   ]
  },
  {
   "cell_type": "code",
   "execution_count": 53,
   "metadata": {},
   "outputs": [
    {
     "data": {
      "text/plain": [
       "array([3, 3, 1, 2, 3, 2, 2, 3, 1, 2])"
      ]
     },
     "execution_count": 53,
     "metadata": {},
     "output_type": "execute_result"
    }
   ],
   "source": [
    "tosses_sum = tosses_transpose.sum(axis=1)\n",
    "tosses_sum"
   ]
  },
  {
   "cell_type": "code",
   "execution_count": 55,
   "metadata": {},
   "outputs": [
    {
     "data": {
      "text/plain": [
       "0.8"
      ]
     },
     "execution_count": 55,
     "metadata": {},
     "output_type": "execute_result"
    }
   ],
   "source": [
    "# Since tails are encoded as 1, we need to count the number of 0s.\n",
    "# Or, we need to count the cases where the sum <= 1, meaning that there is less than or equal to one tail.\n",
    "count_heads = len([i for i in tosses_sum if i <= 1]) / len(tosses_sum)\n",
    "count_heads"
   ]
  },
  {
   "cell_type": "code",
   "execution_count": 56,
   "metadata": {},
   "outputs": [],
   "source": [
    "def LLN_heads_counter():\n",
    "    orders_of_mag = [10**n for n in range(7)]\n",
    "    for i in orders_of_mag:\n",
    "        tosses = toss_some_coins(n_tosses=i,n_coins=3)\n",
    "        tosses_transpose = np.array(tosses).T\n",
    "        tosses_sum = tosses_transpose.sum(axis=1)\n",
    "        count_heads = len([i for i in tosses_sum if i <= 1]) / len(tosses_sum)\n",
    "        print('Proportion of {} tosses of 3 coins which resulted in at least two heads: {}'.format(i,count_heads))"
   ]
  },
  {
   "cell_type": "code",
   "execution_count": 57,
   "metadata": {},
   "outputs": [
    {
     "name": "stdout",
     "output_type": "stream",
     "text": [
      "Proportion of 1 tosses of 3 coins which resulted in at least two heads: 1.0\n",
      "Proportion of 10 tosses of 3 coins which resulted in at least two heads: 0.5\n",
      "Proportion of 100 tosses of 3 coins which resulted in at least two heads: 0.48\n",
      "Proportion of 1000 tosses of 3 coins which resulted in at least two heads: 0.516\n",
      "Proportion of 10000 tosses of 3 coins which resulted in at least two heads: 0.5097\n",
      "Proportion of 100000 tosses of 3 coins which resulted in at least two heads: 0.5032\n",
      "Proportion of 1000000 tosses of 3 coins which resulted in at least two heads: 0.499614\n"
     ]
    }
   ],
   "source": [
    "LLN_heads_counter()"
   ]
  },
  {
   "cell_type": "code",
   "execution_count": null,
   "metadata": {},
   "outputs": [],
   "source": []
  }
 ],
 "metadata": {
  "kernelspec": {
   "display_name": "Python [conda env:ml]",
   "language": "python",
   "name": "conda-env-ml-py"
  },
  "language_info": {
   "codemirror_mode": {
    "name": "ipython",
    "version": 3
   },
   "file_extension": ".py",
   "mimetype": "text/x-python",
   "name": "python",
   "nbconvert_exporter": "python",
   "pygments_lexer": "ipython3",
   "version": "3.7.9"
  }
 },
 "nbformat": 4,
 "nbformat_minor": 4
}
