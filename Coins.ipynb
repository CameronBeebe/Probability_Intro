{
 "cells": [
  {
   "cell_type": "code",
   "execution_count": 1,
   "metadata": {},
   "outputs": [],
   "source": [
    "# Coins!\n",
    "import numpy as np"
   ]
  },
  {
   "cell_type": "code",
   "execution_count": 10,
   "metadata": {},
   "outputs": [
    {
     "data": {
      "text/plain": [
       "([0, 1, 2, 3, 4, 5, 6, 7, 8, 9], [0, 1, 2, 3, 4, 5, 6, 7, 8, 9])"
      ]
     },
     "execution_count": 10,
     "metadata": {},
     "output_type": "execute_result"
    }
   ],
   "source": [
    "# Quick reminder of comprehensions in python\n",
    "list_no_comp = [0,1,2,3,4,5,6,7,8,9]\n",
    "list_comp = [i for i in range(10)]\n",
    "#list_comp,list_no_comp"
   ]
  },
  {
   "cell_type": "code",
   "execution_count": 8,
   "metadata": {},
   "outputs": [
    {
     "data": {
      "text/plain": [
       "True"
      ]
     },
     "execution_count": 8,
     "metadata": {},
     "output_type": "execute_result"
    }
   ],
   "source": [
    "list_no_comp == list_comp"
   ]
  },
  {
   "cell_type": "code",
   "execution_count": 15,
   "metadata": {},
   "outputs": [
    {
     "data": {
      "text/plain": [
       "1305"
      ]
     },
     "execution_count": 15,
     "metadata": {},
     "output_type": "execute_result"
    }
   ],
   "source": [
    "# We will use np.random.randint() for our coin flipper.  \n",
    "np.random.randint(low=1000,high=2000)"
   ]
  },
  {
   "cell_type": "code",
   "execution_count": 14,
   "metadata": {},
   "outputs": [],
   "source": [
    "# Remember how to get help in a notebook with '?' and '??'\n",
    "#np.random.randint?"
   ]
  },
  {
   "cell_type": "code",
   "execution_count": 2,
   "metadata": {},
   "outputs": [],
   "source": [
    "# Create an infinite coin flipper from a generator comprehension expression.  \n",
    "# Heads = 0, Tails = 1\n",
    "coin_generator = (np.random.randint(low=0, high=2) for x in iter(int, 1))"
   ]
  },
  {
   "cell_type": "code",
   "execution_count": 11,
   "metadata": {},
   "outputs": [
    {
     "data": {
      "text/plain": [
       "0"
      ]
     },
     "execution_count": 11,
     "metadata": {},
     "output_type": "execute_result"
    }
   ],
   "source": [
    "# Get the next random flip from the generator.\n",
    "next(coin_generator)"
   ]
  },
  {
   "cell_type": "code",
   "execution_count": 12,
   "metadata": {},
   "outputs": [
    {
     "name": "stdout",
     "output_type": "stream",
     "text": [
      "0\n",
      "1\n",
      "1\n",
      "1\n",
      "1\n",
      "0\n",
      "1\n",
      "1\n",
      "0\n",
      "1\n"
     ]
    }
   ],
   "source": [
    "# Print out some flips!\n",
    "for i in range(10):\n",
    "    print(next(coin_generator))"
   ]
  },
  {
   "cell_type": "code",
   "execution_count": 16,
   "metadata": {},
   "outputs": [],
   "source": [
    "# Create a function to toss coins.\n",
    "def toss_some_coins(n_tosses, n_coins):\n",
    "    '''\n",
    "    Takes a number of coins and a number of tosses.\n",
    "    \n",
    "    Returns a list of lists of tosses of those coins.\n",
    "    '''\n",
    "    # Create master (empty) list.\n",
    "    list_of_lists = []\n",
    "    \n",
    "    # Loop over coins.\n",
    "    for i in range(n_coins):\n",
    "        # Create temporary results list.\n",
    "        # It will be appended into the master list.\n",
    "        the_list = []\n",
    "        \n",
    "        # Loop over tosses.\n",
    "        for j in range(n_tosses):\n",
    "            # Append toss result to temp list.\n",
    "            the_list.append(next(coin_generator))\n",
    "        \n",
    "        # Append temporary list to master list.\n",
    "        list_of_lists.append(the_list)\n",
    "        \n",
    "    return list_of_lists"
   ]
  },
  {
   "cell_type": "code",
   "execution_count": 19,
   "metadata": {},
   "outputs": [
    {
     "data": {
      "text/plain": [
       "[[1, 0, 1, 1, 1],\n",
       " [0, 1, 1, 0, 1],\n",
       " [1, 0, 0, 1, 1],\n",
       " [0, 0, 1, 1, 0],\n",
       " [1, 1, 1, 0, 0]]"
      ]
     },
     "execution_count": 19,
     "metadata": {},
     "output_type": "execute_result"
    }
   ],
   "source": [
    "# Try it out!\n",
    "toss_some_coins(n_tosses=5,n_coins=5)"
   ]
  },
  {
   "cell_type": "code",
   "execution_count": 21,
   "metadata": {},
   "outputs": [],
   "source": [
    "# What is the probability, when tossing 3 coins, that at least two are heads?\n",
    "# Analytically, it is 1/2: add the (equal) probabilities of combinations of 2 heads \n",
    "# with the probability of all three being heads.  Just count the combinations:\n",
    "#HHH\n",
    "#TTT\n",
    "#HTT\n",
    "#HHT\n",
    "#THT\n",
    "#THH\n",
    "#HTH\n",
    "#TTH"
   ]
  },
  {
   "cell_type": "code",
   "execution_count": 39,
   "metadata": {},
   "outputs": [
    {
     "data": {
      "text/latex": [
       "$P(\\geq 2H) = P(2H \\lor 3H) = P(2H) + P(3H) = (\\frac{1}{8} + \\frac{1}{8} + \\frac{1}{8}) + \\frac{1}{8} = \\frac{1}{2}$\n"
      ],
      "text/plain": [
       "<IPython.core.display.Latex object>"
      ]
     },
     "metadata": {},
     "output_type": "display_data"
    }
   ],
   "source": [
    "%%latex\n",
    "$P(\\geq 2H) = P(2H \\lor 3H) = P(2H) + P(3H) = (\\frac{1}{8} + \\frac{1}{8} + \\frac{1}{8}) + \\frac{1}{8} = \\frac{1}{2}$"
   ]
  },
  {
   "cell_type": "code",
   "execution_count": 29,
   "metadata": {},
   "outputs": [
    {
     "data": {
      "text/plain": [
       "[[0, 1, 0, 0, 0, 1, 0, 0, 0, 0],\n",
       " [0, 0, 0, 1, 1, 0, 0, 1, 1, 0],\n",
       " [1, 0, 0, 1, 1, 1, 1, 1, 1, 1]]"
      ]
     },
     "execution_count": 29,
     "metadata": {},
     "output_type": "execute_result"
    }
   ],
   "source": [
    "tosses = toss_some_coins(n_tosses=10,n_coins=3)\n",
    "tosses"
   ]
  },
  {
   "cell_type": "code",
   "execution_count": 23,
   "metadata": {},
   "outputs": [
    {
     "data": {
      "text/plain": [
       "array([[1, 1, 1],\n",
       "       [1, 1, 0],\n",
       "       [1, 1, 0],\n",
       "       [0, 0, 1],\n",
       "       [0, 0, 1],\n",
       "       [1, 1, 0],\n",
       "       [1, 1, 1],\n",
       "       [1, 0, 0],\n",
       "       [1, 0, 0],\n",
       "       [0, 1, 0]])"
      ]
     },
     "execution_count": 23,
     "metadata": {},
     "output_type": "execute_result"
    }
   ],
   "source": [
    "# Another view might be more appropriate, so we take the transpose of the array.\n",
    "tosses_transpose = np.array(tosses).T\n",
    "tosses_transpose"
   ]
  },
  {
   "cell_type": "code",
   "execution_count": 24,
   "metadata": {},
   "outputs": [
    {
     "data": {
      "text/plain": [
       "array([3, 2, 2, 1, 1, 2, 3, 1, 1, 1])"
      ]
     },
     "execution_count": 24,
     "metadata": {},
     "output_type": "execute_result"
    }
   ],
   "source": [
    "# We can calculate the number of heads and tails by summing \n",
    "# (which tells us how many Tails, since a result of Tails = 1).\n",
    "tosses_sum = tosses_transpose.sum(axis=1)\n",
    "tosses_sum"
   ]
  },
  {
   "cell_type": "code",
   "execution_count": 25,
   "metadata": {},
   "outputs": [
    {
     "data": {
      "text/plain": [
       "0.5"
      ]
     },
     "execution_count": 25,
     "metadata": {},
     "output_type": "execute_result"
    }
   ],
   "source": [
    "# Since tails are encoded as 1, we need to count the number of 0s.\n",
    "# Or, we need to count the cases where the sum <= 1, meaning that there is less than or equal to one tail.\n",
    "count_heads = len([i for i in tosses_sum if i <= 1]) / len(tosses_sum)\n",
    "count_heads"
   ]
  },
  {
   "cell_type": "code",
   "execution_count": 27,
   "metadata": {},
   "outputs": [],
   "source": [
    "# We can then use the above code for a law of large numbers demonstration to confirm \n",
    "# the analytic solution we calculated above of 1/2 with the frequency of the \n",
    "# occurrence of at least two heads.  This frequency approaches 1/2 as the number of \n",
    "# tosses increases.\n",
    "def LLN_heads_counter():\n",
    "    # Create list of orders of magnitude.\n",
    "    orders_of_mag = [10**n for n in range(7)]\n",
    "    \n",
    "    # Loop over orders of magnitude.\n",
    "    # The code inside the loop is copied from the above cells.\n",
    "    for i in orders_of_mag:\n",
    "        tosses = toss_some_coins(n_tosses=i,n_coins=3)\n",
    "        tosses_transpose = np.array(tosses).T\n",
    "        tosses_sum = tosses_transpose.sum(axis=1)\n",
    "        count_heads = len([i for i in tosses_sum if i <= 1]) / len(tosses_sum)\n",
    "        print('Proportion of {} tosses of 3 coins which resulted in at least two heads: {}'.format(i,count_heads))"
   ]
  },
  {
   "cell_type": "code",
   "execution_count": 28,
   "metadata": {},
   "outputs": [
    {
     "name": "stdout",
     "output_type": "stream",
     "text": [
      "Proportion of 1 tosses of 3 coins which resulted in at least two heads: 1.0\n",
      "Proportion of 10 tosses of 3 coins which resulted in at least two heads: 0.6\n",
      "Proportion of 100 tosses of 3 coins which resulted in at least two heads: 0.51\n",
      "Proportion of 1000 tosses of 3 coins which resulted in at least two heads: 0.517\n",
      "Proportion of 10000 tosses of 3 coins which resulted in at least two heads: 0.4973\n",
      "Proportion of 100000 tosses of 3 coins which resulted in at least two heads: 0.49971\n",
      "Proportion of 1000000 tosses of 3 coins which resulted in at least two heads: 0.499937\n"
     ]
    }
   ],
   "source": [
    "# Demonstrate the law of large numbers as it approaches the analytical solution.\n",
    "LLN_heads_counter()"
   ]
  },
  {
   "cell_type": "code",
   "execution_count": null,
   "metadata": {},
   "outputs": [],
   "source": []
  }
 ],
 "metadata": {
  "kernelspec": {
   "display_name": "Python [conda env:ml]",
   "language": "python",
   "name": "conda-env-ml-py"
  },
  "language_info": {
   "codemirror_mode": {
    "name": "ipython",
    "version": 3
   },
   "file_extension": ".py",
   "mimetype": "text/x-python",
   "name": "python",
   "nbconvert_exporter": "python",
   "pygments_lexer": "ipython3",
   "version": "3.7.9"
  }
 },
 "nbformat": 4,
 "nbformat_minor": 4
}
